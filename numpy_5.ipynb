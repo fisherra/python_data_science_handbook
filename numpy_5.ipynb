{
 "cells": [
  {
   "cell_type": "code",
   "execution_count": 2,
   "metadata": {},
   "outputs": [],
   "source": [
    "import numpy as np"
   ]
  },
  {
   "cell_type": "markdown",
   "metadata": {},
   "source": [
    "Aggregates: Min, Max, and everything in between"
   ]
  },
  {
   "cell_type": "code",
   "execution_count": 10,
   "metadata": {},
   "outputs": [
    {
     "data": {
      "text/plain": [
       "array([48.57282784, 89.76196995, 39.70297871, 96.0582976 , 78.35445257,\n",
       "       27.66437755, 98.60982797, 10.8152336 , 80.25796138, 16.83155177,\n",
       "       83.61047515,  9.17543044, 79.67868002, 48.08467797, 85.3116088 ,\n",
       "       88.47089893, 52.92064507, 11.20332628, 55.64502081, 14.63568799,\n",
       "       25.29178746, 73.34950692,  4.8328687 , 57.33048858,  3.26169931,\n",
       "       84.18384908, 14.58825457, 67.05821055, 92.03149495, 52.10491764,\n",
       "        9.00691478, 53.28072628, 40.36013502, 23.00566313, 72.6533661 ,\n",
       "       28.01270121, 49.49629233, 73.5582397 , 32.42792731, 40.28186652,\n",
       "       86.42361463, 92.67428849, 96.24739286, 61.61975332, 52.45970443,\n",
       "       71.06703644,  1.8318376 , 13.04361875, 39.02125465, 36.50501341,\n",
       "       64.30248398, 85.10532646, 14.91566377, 56.08413482, 17.38266037,\n",
       "       23.51765223, 80.9022949 , 84.30441252, 55.87714629, 29.30439434,\n",
       "       31.22713783, 58.31614237, 29.96103328, 78.8086551 , 33.4210203 ,\n",
       "       16.60492036, 82.87133188, 10.86361965,  5.52584015, 49.95255749,\n",
       "       52.79834439, 96.58834344,  8.07309641, 37.21363571, 46.21603291,\n",
       "        4.73848191, 76.60672245, 69.44133074, 32.09714572, 65.62763121,\n",
       "       72.89942367, 92.69893262, 24.68676699, 93.13096872, 91.63477503,\n",
       "       57.97996783, 30.53838948, 18.59928209, 27.52974386, 51.97852215,\n",
       "       24.71362237, 57.67755665, 67.83984288, 30.07206358, 66.36316401,\n",
       "       56.06259764, 70.2075774 , 62.6959691 ,  1.65339622, 98.59525091])"
      ]
     },
     "execution_count": 10,
     "metadata": {},
     "output_type": "execute_result"
    }
   ],
   "source": [
    "l = np.random.random(size=100)*100\n",
    "l"
   ]
  },
  {
   "cell_type": "code",
   "execution_count": 12,
   "metadata": {},
   "outputs": [
    {
     "data": {
      "text/plain": [
       "50.5858336130178"
      ]
     },
     "execution_count": 12,
     "metadata": {},
     "output_type": "execute_result"
    }
   ],
   "source": [
    "np.mean(l)"
   ]
  },
  {
   "cell_type": "code",
   "execution_count": 13,
   "metadata": {},
   "outputs": [
    {
     "data": {
      "text/plain": [
       "52.629024408856964"
      ]
     },
     "execution_count": 13,
     "metadata": {},
     "output_type": "execute_result"
    }
   ],
   "source": [
    "np.median(l)"
   ]
  },
  {
   "cell_type": "code",
   "execution_count": 16,
   "metadata": {},
   "outputs": [
    {
     "ename": "AttributeError",
     "evalue": "module 'numpy' has no attribute 'mode'",
     "output_type": "error",
     "traceback": [
      "\u001b[0;31m---------------------------------------------------------------------------\u001b[0m",
      "\u001b[0;31mAttributeError\u001b[0m                            Traceback (most recent call last)",
      "\u001b[0;32m<ipython-input-16-2de97d2ceb40>\u001b[0m in \u001b[0;36m<module>\u001b[0;34m()\u001b[0m\n\u001b[0;32m----> 1\u001b[0;31m \u001b[0mnp\u001b[0m\u001b[0;34m.\u001b[0m\u001b[0mmode\u001b[0m\u001b[0;34m(\u001b[0m\u001b[0ml\u001b[0m\u001b[0;34m)\u001b[0m\u001b[0;34m\u001b[0m\u001b[0m\n\u001b[0m",
      "\u001b[0;31mAttributeError\u001b[0m: module 'numpy' has no attribute 'mode'"
     ]
    }
   ],
   "source": [
    "np.mode(l)"
   ]
  },
  {
   "cell_type": "markdown",
   "metadata": {},
   "source": [
    "Mode doesn't exist in numpy!"
   ]
  },
  {
   "cell_type": "code",
   "execution_count": 17,
   "metadata": {},
   "outputs": [],
   "source": [
    "from scipy import stats # import from SciPy"
   ]
  },
  {
   "cell_type": "code",
   "execution_count": 18,
   "metadata": {},
   "outputs": [
    {
     "data": {
      "text/plain": [
       "ModeResult(mode=array([1.65339622]), count=array([1]))"
      ]
     },
     "execution_count": 18,
     "metadata": {},
     "output_type": "execute_result"
    }
   ],
   "source": [
    "stats.mode(l)"
   ]
  },
  {
   "cell_type": "markdown",
   "metadata": {},
   "source": [
    "Result doesn't make a ton of sense because no number is the 'most common'"
   ]
  },
  {
   "cell_type": "code",
   "execution_count": 19,
   "metadata": {},
   "outputs": [
    {
     "data": {
      "text/plain": [
       "5058.583361301779"
      ]
     },
     "execution_count": 19,
     "metadata": {},
     "output_type": "execute_result"
    }
   ],
   "source": [
    "np.sum(l)"
   ]
  },
  {
   "cell_type": "code",
   "execution_count": 21,
   "metadata": {},
   "outputs": [
    {
     "data": {
      "text/plain": [
       "1.6533962183954531"
      ]
     },
     "execution_count": 21,
     "metadata": {},
     "output_type": "execute_result"
    }
   ],
   "source": [
    "np.min(l)"
   ]
  },
  {
   "cell_type": "code",
   "execution_count": 22,
   "metadata": {},
   "outputs": [
    {
     "data": {
      "text/plain": [
       "98.60982796563266"
      ]
     },
     "execution_count": 22,
     "metadata": {},
     "output_type": "execute_result"
    }
   ],
   "source": [
    "np.max(l)"
   ]
  },
  {
   "cell_type": "markdown",
   "metadata": {},
   "source": [
    "Use numpy over base for min/max because of speed"
   ]
  },
  {
   "cell_type": "code",
   "execution_count": 26,
   "metadata": {},
   "outputs": [
    {
     "data": {
      "text/plain": [
       "array([[ 9.97876041, 94.38642608, 57.5288812 , 19.37849893],\n",
       "       [46.98013826, 85.90614935, 98.26251531, 65.80457246],\n",
       "       [79.59656258, 94.07316269, 70.99759261, 48.91246327]])"
      ]
     },
     "execution_count": 26,
     "metadata": {},
     "output_type": "execute_result"
    }
   ],
   "source": [
    "multi_array = np.random.random((3,4))*100\n",
    "multi_array"
   ]
  },
  {
   "cell_type": "markdown",
   "metadata": {},
   "source": [
    "Performing operations on a subset of the data"
   ]
  },
  {
   "cell_type": "code",
   "execution_count": 27,
   "metadata": {},
   "outputs": [
    {
     "data": {
      "text/plain": [
       "array([136.55546125, 274.36573812, 226.78898912, 134.09553466])"
      ]
     },
     "execution_count": 27,
     "metadata": {},
     "output_type": "execute_result"
    }
   ],
   "source": [
    "multi_array.sum(axis=0) # sum along columns"
   ]
  },
  {
   "cell_type": "code",
   "execution_count": 28,
   "metadata": {},
   "outputs": [
    {
     "data": {
      "text/plain": [
       "array([181.27256661, 296.95337538, 293.57978116])"
      ]
     },
     "execution_count": 28,
     "metadata": {},
     "output_type": "execute_result"
    }
   ],
   "source": [
    "multi_array.sum(axis=1) # sum along rows"
   ]
  },
  {
   "cell_type": "code",
   "execution_count": null,
   "metadata": {},
   "outputs": [],
   "source": []
  }
 ],
 "metadata": {
  "kernelspec": {
   "display_name": "Python 3",
   "language": "python",
   "name": "python3"
  },
  "language_info": {
   "codemirror_mode": {
    "name": "ipython",
    "version": 3
   },
   "file_extension": ".py",
   "mimetype": "text/x-python",
   "name": "python",
   "nbconvert_exporter": "python",
   "pygments_lexer": "ipython3",
   "version": "3.6.6"
  }
 },
 "nbformat": 4,
 "nbformat_minor": 2
}
